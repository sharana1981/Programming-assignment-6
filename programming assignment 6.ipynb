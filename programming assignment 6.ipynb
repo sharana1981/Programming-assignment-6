{
 "cells": [
  {
   "cell_type": "code",
   "execution_count": null,
   "id": "2eecdcf4",
   "metadata": {},
   "outputs": [],
   "source": [
    "# Programming assignment 6"
   ]
  },
  {
   "cell_type": "raw",
   "id": "0ae480cb",
   "metadata": {},
   "source": [
    "1)Write a Python Program to Display Fibonacci Sequence Using Recursion?"
   ]
  },
  {
   "cell_type": "code",
   "execution_count": 2,
   "id": "03976e45",
   "metadata": {},
   "outputs": [
    {
     "name": "stdout",
     "output_type": "stream",
     "text": [
      "enter the upper range10\n",
      "0\n",
      "1\n",
      "1\n",
      "2\n",
      "3\n",
      "5\n",
      "8\n",
      "13\n",
      "21\n",
      "34\n",
      "55\n"
     ]
    }
   ],
   "source": [
    "def fibb(n):\n",
    "    if n==0:\n",
    "        return 0\n",
    "    elif n==1:\n",
    "        return 1\n",
    "    else:\n",
    "        return fibb(n-1)+fibb(n-2)\n",
    "k=int(input(\"enter the upper range\"))\n",
    "for i in range(0,k+1):\n",
    "    print(fibb(i))"
   ]
  },
  {
   "cell_type": "code",
   "execution_count": null,
   "id": "40028c2e",
   "metadata": {},
   "outputs": [],
   "source": [
    "2)Write a Python Program to Find Factorial of Number Using Recursion?"
   ]
  },
  {
   "cell_type": "code",
   "execution_count": 6,
   "id": "c0662348",
   "metadata": {},
   "outputs": [
    {
     "name": "stdout",
     "output_type": "stream",
     "text": [
      "enter the number you want to find factorial of :4\n",
      "24\n"
     ]
    }
   ],
   "source": [
    "n=int(input(\"enter the number you want to find factorial of :\"))\n",
    "def fact(n):\n",
    "    fac=1\n",
    "    if n==0 or n==1:\n",
    "        return 1\n",
    "    else:\n",
    "        return n*fact(n-1)\n",
    "print(fact(n))\n",
    "    "
   ]
  },
  {
   "cell_type": "raw",
   "id": "34d68207",
   "metadata": {},
   "source": [
    "3)Write a Python Program to calculate your Body Mass Index?"
   ]
  },
  {
   "cell_type": "code",
   "execution_count": 11,
   "id": "7983154e",
   "metadata": {},
   "outputs": [
    {
     "name": "stdout",
     "output_type": "stream",
     "text": [
      "enter the weight of a body65\n",
      "enter the height of a body in feet6\n",
      "1.8055555555555556\n"
     ]
    }
   ],
   "source": [
    "w=float(input(\"enter the weight of a body\"))\n",
    "h=float(input(\"enter the height of a body in feet\"))\n",
    "h1=h**2\n",
    "bmi=w/h1\n",
    "print(bmi)"
   ]
  },
  {
   "cell_type": "code",
   "execution_count": null,
   "id": "bcb27280",
   "metadata": {},
   "outputs": [],
   "source": [
    "4)Write a Python Program to calculate the natural logarithm of any number?"
   ]
  },
  {
   "cell_type": "code",
   "execution_count": 14,
   "id": "6dd32af5",
   "metadata": {},
   "outputs": [
    {
     "name": "stdout",
     "output_type": "stream",
     "text": [
      "enter the number you want to find log of:14\n",
      "2.6390573296152584\n"
     ]
    }
   ],
   "source": [
    "import math\n",
    "n=float(input(\"enter the number you want to find log of:\"))\n",
    "print(math.log(n))"
   ]
  },
  {
   "cell_type": "code",
   "execution_count": null,
   "id": "b5123000",
   "metadata": {},
   "outputs": [],
   "source": [
    "5)Write a Python Program for cube sum of first n natural numbers?\n"
   ]
  },
  {
   "cell_type": "code",
   "execution_count": 17,
   "id": "9c8d4068",
   "metadata": {},
   "outputs": [
    {
     "name": "stdout",
     "output_type": "stream",
     "text": [
      "enter the upper range :10\n",
      "3025\n"
     ]
    }
   ],
   "source": [
    "n=int(input(\"enter the upper range :\"))\n",
    "sum=0\n",
    "for i in range(1,n+1):\n",
    "    sum+=i**3\n",
    "print(sum)"
   ]
  },
  {
   "cell_type": "code",
   "execution_count": null,
   "id": "0693607c",
   "metadata": {},
   "outputs": [],
   "source": []
  }
 ],
 "metadata": {
  "kernelspec": {
   "display_name": "Python 3 (ipykernel)",
   "language": "python",
   "name": "python3"
  },
  "language_info": {
   "codemirror_mode": {
    "name": "ipython",
    "version": 3
   },
   "file_extension": ".py",
   "mimetype": "text/x-python",
   "name": "python",
   "nbconvert_exporter": "python",
   "pygments_lexer": "ipython3",
   "version": "3.9.12"
  }
 },
 "nbformat": 4,
 "nbformat_minor": 5
}
